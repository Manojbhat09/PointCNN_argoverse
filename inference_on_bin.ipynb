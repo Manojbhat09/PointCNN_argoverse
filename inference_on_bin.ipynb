{
 "cells": [
  {
   "cell_type": "code",
   "execution_count": 1,
   "metadata": {},
   "outputs": [],
   "source": [
    "#!/usr/bin/python3\n",
    "\"\"\"Testing On Segmentation Task.\"\"\"\n",
    "\n",
    "from __future__ import absolute_import\n",
    "from __future__ import division\n",
    "from __future__ import print_function\n",
    "\n",
    "import os\n",
    "\n",
    "os.environ[\"CUDA_DEVICE_ORDER\"]=\"PCI_BUS_ID\"\n",
    "os.environ[\"CUDA_VISIBLE_DEVICES\"] = str(0)\n",
    "import sys\n",
    "import math\n",
    "import h5py\n",
    "import argparse\n",
    "import importlib\n",
    "import data_utils\n",
    "import numpy as np\n",
    "import tensorflow as tf\n",
    "from datetime import datetime\n",
    "from tqdm import tqdm\n",
    "# import pykitti\n"
   ]
  },
  {
   "cell_type": "code",
   "execution_count": 2,
   "metadata": {},
   "outputs": [],
   "source": [
    "batch_size = 1\n",
    "sample_num = 1"
   ]
  },
  {
   "cell_type": "code",
   "execution_count": 2,
   "metadata": {},
   "outputs": [],
   "source": [
    "__predicate = \"argo_1\"\n",
    "_file_loc  = \"/home/kartik/DL_model/PointCNN/\"\n",
    "_file_loc_raw_data  = _file_loc + \"test_data/data/\"\n",
    "__dataset = \"/home/kartik/DL_model/PointCNN/data/Argo_h5_GR_scaled_depth/train/val.txt\"\n",
    "__dataset_final_result = _file_loc+\"test_data/results/\"\n",
    "__model = \"/home/kartik/DL_model/PointCNN/outfolder_argo_gr2/ckpts/\"+\"iter-76444.data-00000-of-00001\"\n",
    "pred_path = _file_loc+\"/pointcnn-dataset/\"+__predicate+\"/val\"\n",
    "pred_path = _file_loc+\"/outfolder_test_\"+__predicate+\"/val\"\n"
   ]
  },
  {
   "cell_type": "code",
   "execution_count": 68,
   "metadata": {},
   "outputs": [],
   "source": [
    "def data_preprocessing(filename , max_point_num):\n",
    "    batch_size = 2048\n",
    "    block_size = 1000\n",
    "    grid_size = 0.25\n",
    "        \n",
    "    # data_filename = FLAGS.image_filename\n",
    "    ROOT_DIR = os.getcwd()\n",
    "\n",
    "    # Directory to save logs and trained model\n",
    "    MODEL_DIR = os.path.join(ROOT_DIR, \"logs_test\")\n",
    "\n",
    "    # Directory to get binary and image data\n",
    "    PARENT_DIR = os.path.abspath(os.path.join(ROOT_DIR, os.pardir))\n",
    "    DATA_DIR = os.path.join(PARENT_DIR, \"test_dataset\")\n",
    "    \n",
    "    data = np.zeros((batch_size, max_point_num, 4))\n",
    "    data_num = np.zeros((batch_size), dtype=np.int32)\n",
    "    label = np.zeros((batch_size), dtype=np.int32)\n",
    "    label_seg = np.zeros((batch_size, max_point_num), dtype=np.int32)\n",
    "    indices_split_to_full = np.zeros((batch_size, max_point_num), dtype=np.int32)\n",
    "    \n",
    "#     xyzi = np.fromfile(\n",
    "#         os.path.join(filename),\n",
    "#         dtype=np.float32).reshape((-1, 4))\n",
    "    xyzi = np.load(source_files[0]).reshape((-1, 4))\n",
    "    pts = xyzi[:, :3]\n",
    "    depth = np.linalg.norm(xyzi, 2, axis=1)\n",
    "    xyzi = np.hstack((pts, depth[:, np.newaxis]))\n",
    "    \n",
    "    indices_for_prediction = np.arange(xyzi.shape[0]) #(xyzi[:,0] >= -5 ).nonzero()[0]\n",
    "    xyzif =xyzi #= xyzi[xyzi[:,0] >= -5 ] \n",
    "    \n",
    "    all_label_pred = np.zeros((xyzi.shape[0]),dtype=int)\n",
    "    label_length = xyzif.shape[0]\n",
    "    xyz =xyzif[:,0:3]\n",
    "    \n",
    "    i =( xyzif[:,3:4] / (np.max(xyzif[:,3:4].flatten()) + 1e-10)  ) \n",
    "            \n",
    "    xyz_min = np.amin(xyz, axis=0, keepdims=True)\n",
    "    xyz_max = np.amax(xyz, axis=0, keepdims=True)\n",
    "    block_size = (2 * (xyz_max[0, 0] - xyz_min[0, 0]), 2 * (xyz_max[0, 1] - xyz_min[0, 1]) ,  2 * (xyz_max[0, -1] - xyz_min[0, -1]))\n",
    "    \n",
    "    xyz_blocks = np.floor((xyz - xyz_min) / block_size).astype(np.int)\n",
    "\n",
    "    #print('{}-Collecting points belong to each block...'.format(datetime.now(), xyzrcof.shape[0]))\n",
    "    blocks, point_block_indices, block_point_counts = np.unique(xyz_blocks, return_inverse=True,\n",
    "                                                                return_counts=True, axis=0)\n",
    "    block_point_indices = np.split(np.argsort(point_block_indices), np.cumsum(block_point_counts[:-1]))\n",
    "    #print('{}-{} is split into {} blocks.'.format(datetime.now(), dataset, blocks.shape[0]))\n",
    "\n",
    "    block_to_block_idx_map = dict()\n",
    "    for block_idx in range(blocks.shape[0]):\n",
    "        block = (blocks[block_idx][0], blocks[block_idx][1])\n",
    "        block_to_block_idx_map[(block[0], block[1])] = block_idx\n",
    "\n",
    "    # merge small blocks into one of their big neighbors\n",
    "    block_point_count_threshold = max_point_num / 3\n",
    "    #print(\"block_point_count_threshold\",block_point_count_threshold)\n",
    "    nbr_block_offsets = [(0, 1), (1, 0), (0, -1), (-1, 0), (-1, 1), (1, 1), (1, -1), (-1, -1)]\n",
    "    block_merge_count = 0\n",
    "    for block_idx in range(blocks.shape[0]):\n",
    "        if block_point_counts[block_idx] >= block_point_count_threshold:\n",
    "            #print(block_idx, block_point_counts[block_idx])\n",
    "\n",
    "            continue\n",
    "\n",
    "\n",
    "        block = (blocks[block_idx][0], blocks[block_idx][1])\n",
    "        for x, y in nbr_block_offsets:\n",
    "            nbr_block = (block[0] + x, block[1] + y)\n",
    "            if nbr_block not in block_to_block_idx_map:\n",
    "                continue\n",
    "\n",
    "            nbr_block_idx = block_to_block_idx_map[nbr_block]\n",
    "            if block_point_counts[nbr_block_idx] < block_point_count_threshold:\n",
    "                continue\n",
    "\n",
    "\n",
    "            #print(block_idx, nbr_block_idx, block_point_counts[nbr_block_idx])\n",
    "\n",
    "            block_point_indices[nbr_block_idx] = np.concatenate(\n",
    "                [block_point_indices[nbr_block_idx], block_point_indices[block_idx]], axis=-1)\n",
    "            block_point_indices[block_idx] = np.array([], dtype=np.int)\n",
    "            block_merge_count = block_merge_count + 1\n",
    "            break\n",
    "    #print('{}-{} of {} blocks are merged.'.format(datetime.now(), block_merge_count, blocks.shape[0]))\n",
    "\n",
    "    idx_last_non_empty_block = 0\n",
    "    for block_idx in reversed(range(blocks.shape[0])):\n",
    "        if block_point_indices[block_idx].shape[0] != 0:\n",
    "            idx_last_non_empty_block = block_idx\n",
    "            break\n",
    "\n",
    "    # uniformly sample each block\n",
    "    for block_idx in range(idx_last_non_empty_block + 1):\n",
    "        point_indices = block_point_indices[block_idx]\n",
    "        if point_indices.shape[0] == 0:\n",
    "            continue\n",
    "\n",
    "        #print(block_idx, point_indices.shape)\n",
    "        block_points = xyz[point_indices]\n",
    "        block_min = np.amin(block_points, axis=0, keepdims=True)\n",
    "        xyz_grids = np.floor((block_points - block_min) / grid_size).astype(np.int)\n",
    "        grids, point_grid_indices, grid_point_counts = np.unique(xyz_grids, return_inverse=True,\n",
    "                                                                 return_counts=True, axis=0)\n",
    "        grid_point_indices = np.split(np.argsort(point_grid_indices), np.cumsum(grid_point_counts[:-1]))\n",
    "        grid_point_count_avg = int(np.average(grid_point_counts))\n",
    "        point_indices_repeated = []\n",
    "        for grid_idx in range(grids.shape[0]):\n",
    "            point_indices_in_block = grid_point_indices[grid_idx]\n",
    "            repeat_num = math.ceil(grid_point_count_avg / point_indices_in_block.shape[0])\n",
    "            if repeat_num > 1:\n",
    "                point_indices_in_block = np.repeat(point_indices_in_block, repeat_num)\n",
    "                np.random.shuffle(point_indices_in_block)\n",
    "                point_indices_in_block = point_indices_in_block[:grid_point_count_avg]\n",
    "            point_indices_repeated.extend(list(point_indices[point_indices_in_block]))\n",
    "        block_point_indices[block_idx] = np.array(point_indices_repeated)\n",
    "        block_point_counts[block_idx] = len(point_indices_repeated)\n",
    "\n",
    "    idx = 0\n",
    "    for block_idx in range(idx_last_non_empty_block + 1):\n",
    "        point_indices = block_point_indices[block_idx]\n",
    "        if point_indices.shape[0] == 0:\n",
    "            continue\n",
    "\n",
    "        block_point_num = point_indices.shape[0]\n",
    "        block_split_num = int(math.ceil(block_point_num * 1.0 / max_point_num))\n",
    "        point_num_avg = int(math.ceil(block_point_num * 1.0 / block_split_num))\n",
    "        point_nums = [point_num_avg] * block_split_num\n",
    "        point_nums[-1] = block_point_num - (point_num_avg * (block_split_num - 1))\n",
    "        starts = [0] + list(np.cumsum(point_nums))\n",
    "\n",
    "        np.random.shuffle(point_indices)\n",
    "        block_points = xyz[point_indices]\n",
    "\n",
    "\n",
    "        block_min = np.amin(block_points, axis=0, keepdims=True)\n",
    "        block_max = np.amax(block_points, axis=0, keepdims=True)\n",
    "        #block_center = (block_min + block_max) / 2\n",
    "        #block_center[0][-1] = block_min[0][-1]\n",
    "        #block_points = block_points - block_center  # align to block bottom center\n",
    "        x, y, z = np.split(block_points, (1, 2), axis=-1)\n",
    "\n",
    "        block_xzyrgbi = np.concatenate([x, z, y, i[point_indices]], axis=-1)\n",
    "\n",
    "        for block_split_idx in range(block_split_num):\n",
    "            start = starts[block_split_idx]\n",
    "            point_num = point_nums[block_split_idx]\n",
    "            #print(block_split_num, block_split_idx, point_num )\n",
    "\n",
    "\n",
    "\n",
    "            end = start + point_num\n",
    "            idx_in_batch = idx % batch_size\n",
    "            data[idx_in_batch, 0:point_num, ...] = block_xzyrgbi[start:end, :]\n",
    "            data_num[idx_in_batch] = point_num\n",
    "            indices_split_to_full[idx_in_batch, 0:point_num] = point_indices[start:end]\n",
    "\n",
    "            #print(\"indices_split_to_full\", idx_in_batch, point_num, indices_split_to_full)\n",
    "\n",
    "            if  (block_idx == idx_last_non_empty_block and block_split_idx == block_split_num - 1): #Last iteration\n",
    "\n",
    "                item_num = idx_in_batch + 1\n",
    "                \n",
    "            idx = idx + 1\n",
    "            \n",
    "    return label_length, data, data_num, indices_split_to_full, item_num, all_label_pred, indices_for_prediction"
   ]
  },
  {
   "cell_type": "code",
   "execution_count": 4,
   "metadata": {},
   "outputs": [
    {
     "data": {
      "text/plain": [
       "('checkpoint ', '/home/kartik/DL_model/PointCNN/outfolder_argo5/ckpts')"
      ]
     },
     "execution_count": 4,
     "metadata": {},
     "output_type": "execute_result"
    }
   ],
   "source": [
    "train_root_folder = \"/home/kartik/DL_model/PointCNN/outfolder_argo5\"\n",
    "folder_ckpt = os.path.join(train_root_folder, 'ckpts')\n",
    "\"checkpoint \", folder_ckpt"
   ]
  },
  {
   "cell_type": "code",
   "execution_count": 20,
   "metadata": {},
   "outputs": [],
   "source": [
    "\n",
    "from __future__ import absolute_import\n",
    "from __future__ import division\n",
    "from __future__ import print_function\n",
    "\n",
    "import os\n",
    "import sys\n",
    "import math\n",
    "import h5py\n",
    "import argparse\n",
    "import numpy as np\n",
    "from datetime import datetime\n",
    "from tqdm import tqdm\n",
    "\n",
    "import data_utils\n",
    "\n",
    "import numpy as np\n",
    "from tqdm import tqdm\n",
    "\n",
    "import importlib\n",
    "import tensorflow as tf\n",
    "\n",
    "import glob"
   ]
  },
  {
   "cell_type": "code",
   "execution_count": 21,
   "metadata": {},
   "outputs": [
    {
     "name": "stdout",
     "output_type": "stream",
     "text": [
      "/home/kartik/DL_model/PointCNN\n"
     ]
    }
   ],
   "source": [
    "max_point_num = 8192\n",
    "\n",
    "# data_filename = FLAGS.image_filename\n",
    "ROOT_DIR = os.getcwd()\n",
    "print(ROOT_DIR)\n",
    "\n",
    "# Directory to save logs and trained model\n",
    "MODEL_DIR = os.path.join(ROOT_DIR, \"logs\")\n",
    "\n",
    "# Directory to get binary and image data\n",
    "PARENT_DIR = os.path.abspath(os.path.join(ROOT_DIR, os.pardir))\n",
    "DATA_DIR = os.path.join(ROOT_DIR, \"test_data\", \"data\")\n",
    "source_files = glob.glob(DATA_DIR+\"/*\")"
   ]
  },
  {
   "cell_type": "code",
   "execution_count": 7,
   "metadata": {},
   "outputs": [
    {
     "name": "stdout",
     "output_type": "stream",
     "text": [
      "/home/kartik/DL_model/PointCNN/pointcnn_seg\n",
      "sampling path  /home/kartik/DL_model/PointCNN/sampling\n",
      "WARNING:tensorflow:From /home/kartik/DL_model/PointCNN/pointfly.py:193: calling reduce_sum (from tensorflow.python.ops.math_ops) with keep_dims is deprecated and will be removed in a future version.\n",
      "Instructions for updating:\n",
      "keep_dims is deprecated, use keepdims instead\n",
      "2020-01-23 11:08:41.803376-Parameter number: 11510276.\n"
     ]
    }
   ],
   "source": [
    "args_model = \"pointcnn_seg\"\n",
    "args_setting = \"kitti3d_x8_2048_fps\"\n",
    "args_repeat_num = 1\n",
    "\n",
    "model = importlib.import_module(args_model)\n",
    "setting_path = os.path.join(os.path.join(ROOT_DIR), args_model)\n",
    "print(setting_path)\n",
    "sys.path.append(setting_path)\n",
    "setting = importlib.import_module(args_setting)\n",
    "\n",
    "sample_num = setting.sample_num\n",
    "batch_size = args_repeat_num * int ( math.ceil(max_point_num / sample_num) )\n",
    "\n",
    "######################################################################\n",
    "# Placeholders\n",
    "indices = tf.placeholder(tf.int32, shape=(batch_size, None, 2), name=\"indices\")\n",
    "is_training = tf.placeholder(tf.bool, name='is_training')\n",
    "pts_fts = tf.placeholder(tf.float32, shape=(batch_size, max_point_num, setting.data_dim), name='points')\n",
    "global_step = tf.Variable(0, trainable=False, name='global_step')\n",
    "######################################################################\n",
    "\n",
    "# # Placeholders\n",
    "# indices = tf.placeholder(tf.int32, shape=(None, None, 2), name=\"indices\")\n",
    "# xforms = tf.placeholder(tf.float32, shape=(None, 3, 3), name=\"xforms\")\n",
    "# rotations = tf.placeholder(tf.float32, shape=(None, 3, 3), name=\"rotations\")\n",
    "# jitter_range = tf.placeholder(tf.float32, shape=(1), name=\"jitter_range\")\n",
    "# global_step = tf.Variable(0, trainable=False, name='global_step')\n",
    "# is_training = tf.placeholder(tf.bool, name='is_training')\n",
    "\n",
    "# pts_fts = tf.placeholder(tf.float32, shape=(None, point_num, setting.data_dim), name='pts_fts')\n",
    "# labels_seg = tf.placeholder(tf.int64, shape=(None, point_num), name='labels_seg')\n",
    "# labels_weights = tf.placeholder(tf.float32, shape=(None, point_num), name='labels_weights')\n",
    "\n",
    "\n",
    "######################################################################\n",
    "pts_fts_sampled = tf.gather_nd(pts_fts, indices=indices, name='pts_fts_sampled')\n",
    "if setting.data_dim > 3:\n",
    "    points_sampled, features_sampled = tf.split(pts_fts_sampled,\n",
    "                                                [3, setting.data_dim - 3],\n",
    "                                                axis=-1,\n",
    "                                                name='split_points_features')\n",
    "    if not setting.use_extra_features:\n",
    "        features_sampled = None\n",
    "else:\n",
    "    points_sampled = pts_fts_sampled\n",
    "    features_sampled = None\n",
    "\n",
    "net = model.Net(points_sampled, features_sampled, is_training, setting)\n",
    "seg_probs_op = tf.nn.softmax(net.logits, name='seg_probs')\n",
    "\n",
    "# for restore model\n",
    "saver = tf.train.Saver()\n",
    "\n",
    "parameter_num = np.sum([np.prod(v.shape.as_list()) for v in tf.trainable_variables()])\n",
    "print('{}-Parameter number: {:d}.'.format(datetime.now(), parameter_num))\n"
   ]
  },
  {
   "cell_type": "code",
   "execution_count": 78,
   "metadata": {},
   "outputs": [
    {
     "name": "stdout",
     "output_type": "stream",
     "text": [
      "here\n",
      "/home/kartik/DL_model/PointCNN/outfolder_argo5/ckpts\n",
      "/home/kartik/DL_model/PointCNN/outfolder_argo_gr3/ckpts/iter-141946\n",
      "2020-01-23 15:23:01.968201-Found checkpoint /home/kartik/DL_model/PointCNN/outfolder_argo_gr3/ckpts/iter-141946\n",
      "INFO:tensorflow:Restoring parameters from /home/kartik/DL_model/PointCNN/outfolder_argo_gr3/ckpts/iter-141946\n"
     ]
    },
    {
     "name": "stderr",
     "output_type": "stream",
     "text": [
      "\n",
      "\n",
      "\n",
      "  0%|          | 0/167 [00:00<?, ?it/s]\u001b[A\u001b[A\u001b[A"
     ]
    },
    {
     "name": "stdout",
     "output_type": "stream",
     "text": [
      "2020-01-23 15:23:02.092267-Checkpoint loaded from /home/kartik/DL_model/PointCNN/outfolder_argo_gr3/ckpts/iter-141946 (Iter 141946)\n",
      "donw\n"
     ]
    },
    {
     "name": "stderr",
     "output_type": "stream",
     "text": [
      "\n",
      "\n",
      "\n",
      "\n",
      "  0%|          | 0/21 [00:00<?, ?it/s]\u001b[A\u001b[A\u001b[A\u001b[A"
     ]
    },
    {
     "name": "stdout",
     "output_type": "stream",
     "text": [
      "136322\n"
     ]
    },
    {
     "name": "stderr",
     "output_type": "stream",
     "text": [
      "\n",
      "\n",
      "\n",
      "\n",
      "  5%|▍         | 1/21 [00:00<00:13,  1.48it/s]\u001b[A\u001b[A\u001b[A\u001b[A\n",
      "\n",
      "\n",
      "\n",
      " 10%|▉         | 2/21 [00:00<00:09,  1.91it/s]\u001b[A\u001b[A\u001b[A\u001b[A\n",
      "\n",
      "\n",
      "\n",
      " 14%|█▍        | 3/21 [00:01<00:07,  2.40it/s]\u001b[A\u001b[A\u001b[A\u001b[A\n",
      "\n",
      "\n",
      "\n",
      " 19%|█▉        | 4/21 [00:01<00:05,  2.93it/s]\u001b[A\u001b[A\u001b[A\u001b[A\n",
      "\n",
      "\n",
      "\n",
      " 24%|██▍       | 5/21 [00:01<00:04,  3.57it/s]\u001b[A\u001b[A\u001b[A\u001b[A\n",
      "\n",
      "\n",
      "\n",
      " 29%|██▊       | 6/21 [00:01<00:03,  4.05it/s]\u001b[A\u001b[A\u001b[A\u001b[A\n",
      "\n",
      "\n",
      "\n",
      " 33%|███▎      | 7/21 [00:01<00:03,  4.48it/s]\u001b[A\u001b[A\u001b[A\u001b[A\n",
      "\n",
      "\n",
      "\n",
      " 38%|███▊      | 8/21 [00:01<00:02,  4.81it/s]\u001b[A\u001b[A\u001b[A\u001b[A\n",
      "\n",
      "\n",
      "\n",
      " 43%|████▎     | 9/21 [00:01<00:02,  5.09it/s]\u001b[A\u001b[A\u001b[A\u001b[A\n",
      "\n",
      "\n",
      "\n",
      " 48%|████▊     | 10/21 [00:02<00:02,  5.30it/s]\u001b[A\u001b[A\u001b[A\u001b[A\n",
      "\n",
      "\n",
      "\n",
      " 52%|█████▏    | 11/21 [00:02<00:01,  5.46it/s]\u001b[A\u001b[A\u001b[A\u001b[A\n",
      "\n",
      "\n",
      "\n",
      " 57%|█████▋    | 12/21 [00:02<00:01,  5.59it/s]\u001b[A\u001b[A\u001b[A\u001b[A\n",
      "\n",
      "\n",
      "\n",
      " 62%|██████▏   | 13/21 [00:02<00:01,  5.67it/s]\u001b[A\u001b[A\u001b[A\u001b[A\n",
      "\n",
      "\n",
      "\n",
      " 67%|██████▋   | 14/21 [00:02<00:01,  5.72it/s]\u001b[A\u001b[A\u001b[A\u001b[A\n",
      "\n",
      "\n",
      "\n",
      " 71%|███████▏  | 15/21 [00:02<00:00,  6.12it/s]\u001b[A\u001b[A\u001b[A\u001b[A\n",
      "\n",
      "\n",
      "\n",
      " 76%|███████▌  | 16/21 [00:03<00:00,  6.06it/s]\u001b[A\u001b[A\u001b[A\u001b[A\n",
      "\n",
      "\n",
      "\n",
      " 81%|████████  | 17/21 [00:03<00:00,  6.01it/s]\u001b[A\u001b[A\u001b[A\u001b[A\n",
      "\n",
      "\n",
      "\n",
      " 86%|████████▌ | 18/21 [00:03<00:00,  5.96it/s]\u001b[A\u001b[A\u001b[A\u001b[A\n",
      "\n",
      "\n",
      "\n",
      " 90%|█████████ | 19/21 [00:03<00:00,  6.31it/s]\u001b[A\u001b[A\u001b[A\u001b[A\n",
      "\n",
      "\n",
      "\n",
      " 95%|█████████▌| 20/21 [00:03<00:00,  6.19it/s]\u001b[A\u001b[A\u001b[A\u001b[A\n",
      "\n",
      "\n",
      "\n",
      "100%|██████████| 21/21 [00:03<00:00,  5.33it/s]\u001b[A\u001b[A\u001b[A\u001b[A\n"
     ]
    },
    {
     "name": "stdout",
     "output_type": "stream",
     "text": [
      "saved to  /home/kartik/DL_model/PointCNN/test_data/results/out_1\n"
     ]
    }
   ],
   "source": [
    "import math\n",
    "output_location = os.path.join(ROOT_DIR, \"test_data\", \"results\")\n",
    "with tf.Session() as sess:\n",
    "    \n",
    "#     sess.run(init_op)\n",
    "    # Load the model\n",
    "    print(\"here\")\n",
    "    latest_ckpt = tf.train.latest_checkpoint(\"/home/kartik/DL_model/PointCNN/outfolder_argo_gr3/ckpts\")\n",
    "    print(folder_ckpt)\n",
    "    print(latest_ckpt)\n",
    "    if latest_ckpt:\n",
    "        print('{}-Found checkpoint {}'.format(datetime.now(), latest_ckpt))\n",
    "        saver.restore(sess, latest_ckpt)\n",
    "        print('{}-Checkpoint loaded from {} (Iter {})'.format(\n",
    "            datetime.now(), latest_ckpt, sess.run(global_step)))\n",
    "    print(\"donw\")\n",
    "    indices_batch_indices = np.tile(np.reshape(np.arange(batch_size), (batch_size, 1, 1)), (1, sample_num, 1))\n",
    "    all_files = source_files\n",
    "    # The locaton of trh classes ais defined as below\n",
    "    file_count = 0\n",
    "    for fname in tqdm(all_files):\n",
    "        label_length, data, data_num, indices_split_to_full, item_num, all_label_pred, indices_for_prediction = data_preprocessing(fname , max_point_num)\n",
    "\n",
    "        merged_label_zero = np.zeros((label_length),dtype=int)\n",
    "        merged_confidence_zero = np.zeros((label_length),dtype=float)\n",
    "        data =data[0:item_num, ...].astype(np.float32) \n",
    "        data_num =data_num[0:item_num, ...] \n",
    "        indices_split_to_full = indices_split_to_full[0:item_num]\n",
    "        batch_num = data.shape[0]\n",
    "\n",
    "        labels_pred = np.full((batch_num, max_point_num), -1, dtype=np.int32)\n",
    "        confidences_pred = np.zeros((batch_num, max_point_num), dtype=np.float32)\n",
    "        print(label_length)\n",
    "#         for batch_idx in range(batch_num):\n",
    "#             points_batch = data[[batch_idx] * batch_size, ...]\n",
    "#             point_num = data_num[batch_idx]\n",
    "\n",
    "#             tile_num = int ( math.ceil((sample_num * batch_size) / point_num) )\n",
    "#             indices_shuffle = np.tile(np.arange(point_num), tile_num)[0:sample_num * batch_size]\n",
    "#             np.random.shuffle(indices_shuffle)\n",
    "#             indices_batch_shuffle = np.reshape(indices_shuffle, (batch_size, sample_num, 1))\n",
    "#             indices_batch = np.concatenate((indices_batch_indices, indices_batch_shuffle), axis=2)\n",
    "\n",
    "\n",
    "#             seg_probs = sess.run([seg_probs_op],\n",
    "#                                     feed_dict={\n",
    "#                                         pts_fts: points_batch,\n",
    "#                                         indices: indices_batch.astype(np.int32),\n",
    "#                                         is_training: False,\n",
    "#                                     })\n",
    "#             probs_2d = np.reshape(seg_probs, (sample_num * batch_size, -1))\n",
    "\n",
    "#             predictions = [(-1, 0.0)] * point_num\n",
    "#             for idx in range(sample_num * batch_size):\n",
    "#                 point_idx = indices_shuffle[idx]\n",
    "#                 probs = probs_2d[idx, :]\n",
    "#                 confidence = np.amax(probs)\n",
    "#                 label = np.argmax(probs)\n",
    "#                 if confidence > predictions[point_idx][1]:\n",
    "#                     predictions[point_idx] = [label, confidence]\n",
    "#             labels_pred[batch_idx, 0:point_num] = np.array([label for label, _ in predictions])\n",
    "#             confidences_pred[batch_idx, 0:point_num] = np.array([confidence for _, confidence in predictions])\n",
    "            \n",
    "            \n",
    "        labels_pred = np.full((batch_num, max_point_num), -1, dtype=np.int32)\n",
    "        confidences_pred = np.zeros((batch_num, max_point_num), dtype=np.float32)\n",
    "\n",
    "        #print('{}-{:d} testing batches.'.format(datetime.now(), batch_num))\n",
    "        for batch_idx in tqdm(range(batch_num)):\n",
    "            #if batch_idx % 10 == 0:\n",
    "            #print('{}-Processing {} of {} batches.'.format(datetime.now(), batch_idx, batch_num))\n",
    "            points_batch = data[[batch_idx] * batch_size, ...]\n",
    "            point_num = data_num[batch_idx]\n",
    "            if(point_num <= 10):\n",
    "                continue \n",
    "\n",
    "            tile_num = int(math.ceil((sample_num * batch_size) / point_num))\n",
    "            indices_shuffle = np.tile(np.arange(point_num), tile_num)[0:sample_num * batch_size]\n",
    "            np.random.shuffle(indices_shuffle)\n",
    "            indices_batch_shuffle = np.reshape(indices_shuffle, (batch_size, sample_num, 1))\n",
    "            indices_batch = np.concatenate((indices_batch_indices, indices_batch_shuffle), axis=2)\n",
    "\n",
    "            seg_probs = sess.run([seg_probs_op],\n",
    "                                    feed_dict={\n",
    "                                        pts_fts: points_batch,\n",
    "                                        indices: indices_batch,\n",
    "                                        is_training: False,\n",
    "                                    })\n",
    "            probs_2d = np.reshape(seg_probs, (sample_num * batch_size, -1))\n",
    "\n",
    "            predictions = [(-1, 0.0)] * point_num\n",
    "            for idx in range(sample_num * batch_size):\n",
    "                point_idx = indices_shuffle[idx]\n",
    "                probs = probs_2d[idx, :]\n",
    "                confidence = np.amax(probs)\n",
    "                label = np.argmax(probs)\n",
    "                if confidence > predictions[point_idx][1]:\n",
    "                    predictions[point_idx] = [label, confidence]\n",
    "            labels_pred[batch_idx, 0:point_num] = np.array([label for label, _ in predictions])\n",
    "            confidences_pred[batch_idx, 0:point_num] = np.array([confidence for _, confidence in predictions])\n",
    "\n",
    "\n",
    "            \n",
    "        for idx in range(batch_num): #Get highest confidence\n",
    "            pred = labels_pred[idx].astype(np.int64)\n",
    "            _indices = indices_split_to_full[idx].astype(np.int64)\n",
    "            confidence = confidences_pred[idx].astype(np.float32)\n",
    "            num = data_num[idx].astype(np.int64)\n",
    "\n",
    "            for i in range(pred.shape[0]):\n",
    "\n",
    "                 if confidence[i] > 0.8 and confidence[i] > merged_confidence_zero[_indices[i]]:\n",
    "                    merged_confidence_zero[_indices[i]] = confidence[i]\n",
    "                    merged_label_zero[_indices[i]] = pred[i]\n",
    "\n",
    "\n",
    "        all_label_pred[indices_for_prediction] = merged_label_zero\n",
    "        all_label_pred.tofile(output_location+\"/out_{}\".format(file_count))\n",
    "        file_count+=1\n",
    "        print(\"saved to \", output_location+\"/out_{}\".format(file_count))\n",
    "        break"
   ]
  },
  {
   "cell_type": "code",
   "execution_count": 8,
   "metadata": {
    "scrolled": true
   },
   "outputs": [],
   "source": [
    "\n",
    "# _traindata = _file_loc_raw_data + \"val/val.txt\"\n",
    "# _traindatacontent = open(_traindata, \"r\")\n",
    "# testlists = _traindatacontent.readlines()\n",
    "# testlists = [int(_d) for _d in testlists]"
   ]
  },
  {
   "cell_type": "code",
   "execution_count": 70,
   "metadata": {},
   "outputs": [
    {
     "data": {
      "text/plain": [
       "(21, 8192, 4)"
      ]
     },
     "execution_count": 70,
     "metadata": {},
     "output_type": "execute_result"
    }
   ],
   "source": [
    "data.shape"
   ]
  },
  {
   "cell_type": "code",
   "execution_count": 71,
   "metadata": {},
   "outputs": [
    {
     "data": {
      "text/plain": [
       "(172032, 4)"
      ]
     },
     "execution_count": 71,
     "metadata": {},
     "output_type": "execute_result"
    }
   ],
   "source": [
    "data.reshape(-1,4).shape"
   ]
  },
  {
   "cell_type": "code",
   "execution_count": 72,
   "metadata": {},
   "outputs": [
    {
     "data": {
      "text/plain": [
       "(136322, 4)"
      ]
     },
     "execution_count": 72,
     "metadata": {},
     "output_type": "execute_result"
    }
   ],
   "source": [
    "data = np.load(source_files[0])\n",
    "data.shape"
   ]
  },
  {
   "cell_type": "code",
   "execution_count": 82,
   "metadata": {},
   "outputs": [],
   "source": [
    "pts = data.reshape(-1,4)"
   ]
  },
  {
   "cell_type": "code",
   "execution_count": 73,
   "metadata": {},
   "outputs": [
    {
     "data": {
      "text/plain": [
       "136322"
      ]
     },
     "execution_count": 73,
     "metadata": {},
     "output_type": "execute_result"
    }
   ],
   "source": [
    "all_label_pred.__len__()"
   ]
  },
  {
   "cell_type": "code",
   "execution_count": 57,
   "metadata": {},
   "outputs": [
    {
     "data": {
      "text/plain": [
       "272644"
      ]
     },
     "execution_count": 57,
     "metadata": {},
     "output_type": "execute_result"
    }
   ],
   "source": [
    "cwd = os.getcwd()\n",
    "loc = os.path.join(cwd, \"test_data\", \"results\", \"out_0\")\n",
    "labels = np.fromfile(loc, dtype=np.int32)\n",
    "labels.__len__()"
   ]
  },
  {
   "cell_type": "code",
   "execution_count": 63,
   "metadata": {},
   "outputs": [],
   "source": [
    "data = np.load(source_files[0])"
   ]
  },
  {
   "cell_type": "code",
   "execution_count": 31,
   "metadata": {},
   "outputs": [
    {
     "data": {
      "text/plain": [
       "136322"
      ]
     },
     "execution_count": 31,
     "metadata": {},
     "output_type": "execute_result"
    }
   ],
   "source": [
    "len(data)"
   ]
  },
  {
   "cell_type": "code",
   "execution_count": 74,
   "metadata": {},
   "outputs": [],
   "source": [
    "from pyntcloud import PyntCloud\n",
    "from pyntcloud.io import bin as io_bin\n",
    "import pandas as pd\n",
    "from pythreejs import *\n",
    "import numpy as np\n",
    "from IPython.display import display\n",
    "from ipywidgets import HTML, Text, Output, VBox\n",
    "from traitlets import link, dlink"
   ]
  },
  {
   "cell_type": "code",
   "execution_count": 75,
   "metadata": {},
   "outputs": [],
   "source": [
    "def hsv2rgb(h,s,v):\n",
    "    import colorsys\n",
    "    return list(round(i * 255) for i in colorsys.hsv_to_rgb(h,s,v))\n",
    "        \n",
    "def hsbcolor(max_expected = 10, sat = 175, bri = 175):\n",
    "    hue_factor = 255 / max_expected\n",
    "    rgb_list = [hsv2rgb(((i*hue_factor)%255)/255, sat/255, bri/255) for i in range(max_expected)]\n",
    "    color_list = np.array(rgb_list, dtype=np.uint8)\n",
    "    return color_list"
   ]
  },
  {
   "cell_type": "code",
   "execution_count": 76,
   "metadata": {},
   "outputs": [],
   "source": [
    "# Make seperate colors for segmentations\n",
    "list0fpointindex = all_label_pred\n",
    "assert len(new_pts) == len(list0fpointindex) \n",
    "N = len(np.unique(list0fpointindex)) # Number of segmentation classes\n",
    "colorlist = hsbcolor(N) # Color list\n",
    "labelcolordict = {each:id for id,each in enumerate(np.unique(list0fpointindex))}\n",
    "classcolorlist = [colorlist[labelcolordict[each]] for each in list0fpointindex]"
   ]
  },
  {
   "cell_type": "code",
   "execution_count": 84,
   "metadata": {
    "scrolled": false
   },
   "outputs": [
    {
     "data": {
      "application/vnd.jupyter.widget-view+json": {
       "model_id": "d79f41d37d93481aae436b655a7be6f4",
       "version_major": 2,
       "version_minor": 0
      },
      "text/plain": [
       "Renderer(camera=PerspectiveCamera(aspect=1.6, fov=90.0, position=(7.816410064697266, 12.029518276453018, 301.9…"
      ]
     },
     "metadata": {},
     "output_type": "display_data"
    },
    {
     "data": {
      "application/vnd.jupyter.widget-view+json": {
       "model_id": "4c290e2c9cce471ea33e7f4842645be2",
       "version_major": 2,
       "version_minor": 0
      },
      "text/plain": [
       "HBox(children=(Label(value='Point size:'), FloatSlider(value=0.02, max=0.2, step=0.0002), Label(value='Backgro…"
      ]
     },
     "metadata": {},
     "output_type": "display_data"
    }
   ],
   "source": [
    "# Vizualize pointcloud with intensity\n",
    "new_pts = pd.DataFrame(pts[:, 0:3], columns=['x', 'y', 'z'])\n",
    "# new_pts[\"red\"]  = 0\n",
    "# new_pts[\"green\"]  = 0\n",
    "# new_pts[\"blue\"]  = 0\n",
    "# new_pts[[\"red\",\"green\", \"blue\"]] = classcolorlist\n",
    "# new_pts.loc[list0fpointindex,[\"red\",\"green\", \"blue\"]] = blue\n",
    "cloud = PyntCloud(new_pts)\n",
    "cloud.plot(initial_point_size=0.02)"
   ]
  },
  {
   "cell_type": "markdown",
   "metadata": {},
   "source": [
    "### Checking data "
   ]
  },
  {
   "cell_type": "code",
   "execution_count": 12,
   "metadata": {},
   "outputs": [],
   "source": [
    "import os\n",
    "import sys\n",
    "import math\n",
    "import random\n",
    "import shutil\n",
    "import argparse\n",
    "import importlib\n",
    "import data_utils_legacy as data_utils\n",
    "import numpy as np\n",
    "import pointfly as pf\n",
    "import tensorflow as tf\n",
    "from datetime import datetime\n",
    "import pandas as pd\n",
    "from pyntcloud import PyntCloud"
   ]
  },
  {
   "cell_type": "code",
   "execution_count": 2,
   "metadata": {},
   "outputs": [
    {
     "name": "stdout",
     "output_type": "stream",
     "text": [
      "Namespace(batch_size=1, epochs=1, filelist='data/KITTI/ImageSets/train.txt', filelist_val='data/KITTI/ImageSets/train.txt', load_ckpt=None, log='log.txt', model='pointcnn_seg', no_code_backup=False, no_timestamp_folder=False, save_folder='/home/kartik/saved/', setting='kitti3d_x8_2048_fps_mod1')\n"
     ]
    }
   ],
   "source": [
    "parser = argparse.ArgumentParser()\n",
    "parser.add_argument('--filelist', '-t', default=\"data/KITTI/ImageSets/train.txt\", help='Path to training set ground truth (.txt)')\n",
    "parser.add_argument('--filelist_val', '-v', default=\"data/KITTI/ImageSets/train.txt\", help='Path to validation set ground truth (.txt)')\n",
    "parser.add_argument('--load_ckpt', '-l', help='Path to a check point file for load')\n",
    "parser.add_argument('--save_folder', '-s', default=\"/home/kartik/saved/\", help='Path to folder for saving check points and summary')\n",
    "parser.add_argument('--model', '-m', default=\"pointcnn_seg\", help='Model to use')\n",
    "parser.add_argument('--setting', '-x', default=\"kitti3d_x8_2048_fps_mod1\", help='Setting to use')\n",
    "parser.add_argument('--epochs', default=\"1\",help='Number of training epochs (default defined in setting)', type=int)\n",
    "parser.add_argument('--batch_size', default=\"1\", help='Batch size (default defined in setting)', type=int)\n",
    "# default=\"64\",\n",
    "parser.add_argument('--log', help='Log to FILE in save folder; use - for stdout (default is log.txt)', metavar='FILE', default='log.txt')\n",
    "parser.add_argument('--no_timestamp_folder', help='Dont save to timestamp folder', action='store_true')\n",
    "parser.add_argument('--no_code_backup', help='Dont backup code', action='store_true')\n",
    "args = parser.parse_args([])\n",
    "\n",
    "print(args)"
   ]
  },
  {
   "cell_type": "code",
   "execution_count": 3,
   "metadata": {},
   "outputs": [],
   "source": [
    "cwd = os.getcwd()\n",
    "model = importlib.import_module(args.model)\n",
    "setting_path = os.path.join(cwd, args.model)\n",
    "sys.path.append(setting_path)\n",
    "setting = importlib.import_module(args.setting)\n",
    "\n",
    "num_epochs = args.epochs or setting.num_epochs\n",
    "batch_size = args.batch_size or setting.batch_size\n",
    "sample_num = setting.sample_num\n",
    "step_val = setting.step_val\n",
    "label_weights_list = setting.label_weights\n",
    "rotation_range = setting.rotation_range\n",
    "rotation_range_val = setting.rotation_range_val\n",
    "scaling_range = setting.scaling_range\n",
    "scaling_range_val = setting.scaling_range_val\n",
    "jitter = setting.jitter\n",
    "jitter_val = setting.jitter_val"
   ]
  },
  {
   "cell_type": "code",
   "execution_count": 4,
   "metadata": {},
   "outputs": [
    {
     "name": "stderr",
     "output_type": "stream",
     "text": [
      "\r",
      "0it [00:00, ?it/s]"
     ]
    },
    {
     "name": "stdout",
     "output_type": "stream",
     "text": [
      "2020-01-26 09:27:16.155838-Preparing datasets...\n"
     ]
    },
    {
     "name": "stderr",
     "output_type": "stream",
     "text": [
      "20it [00:05,  3.92it/s]\n"
     ]
    },
    {
     "name": "stdout",
     "output_type": "stream",
     "text": [
      "amax [[[217.02274   84.14794  194.86005 ]\n",
      "  [216.58429   59.07181  190.29214 ]\n",
      "  [218.70334   82.557396 199.96799 ]\n",
      "  ...\n",
      "  [143.4347    13.510128  61.26613 ]\n",
      "  [131.37718   10.249168 111.17418 ]\n",
      "  [ 53.269745   7.663868 111.337364]]]\n",
      "amin [[[-213.55579      -7.4701376  -212.08127   ]\n",
      "  [-212.70149      -3.2587485  -211.15894   ]\n",
      "  [-215.07878      -5.7737727  -209.11053   ]\n",
      "  ...\n",
      "  [ -74.75722      -0.47247314  -64.9187    ]\n",
      "  [ -98.06576      -0.66090035 -173.12178   ]\n",
      "  [ -82.89937      -0.5216615   -47.190056  ]]]\n"
     ]
    },
    {
     "name": "stderr",
     "output_type": "stream",
     "text": [
      "1it [00:00,  4.88it/s]\n"
     ]
    },
    {
     "name": "stdout",
     "output_type": "stream",
     "text": [
      "amax [[[215.90323   20.952639  94.15194 ]\n",
      "  [155.82857   18.881943  94.48389 ]\n",
      "  [162.71529   21.812824  94.183495]\n",
      "  ...\n",
      "  [  0.         0.         0.      ]\n",
      "  [  0.         0.         0.      ]\n",
      "  [  0.         0.         0.      ]]]\n",
      "amin [[[-140.0768       -0.49999964 -119.15227   ]\n",
      "  [-192.31703      -1.0448203  -117.7571    ]\n",
      "  [-162.12273      -0.57638097 -123.3467    ]\n",
      "  ...\n",
      "  [   0.            0.            0.        ]\n",
      "  [   0.            0.            0.        ]\n",
      "  [   0.            0.            0.        ]]]\n"
     ]
    }
   ],
   "source": [
    "points = []\n",
    "labels = []\n",
    "point_nums = []\n",
    "labels_seg = []\n",
    "indices_split_to_full = []\n",
    "\n",
    "print('{}-Preparing datasets...'.format(datetime.now()))\n",
    "# is_list_of_h5_list = data_utils.is_h5_list(args.filelist)\n",
    "args.filelist = os.path.join(cwd, \"data\", \"Argo_h5_GR_scaled_depth\", \"train\")+\"/train.txt\"\n",
    "args.filelist_val = os.path.join(cwd, \"data\", \"Argo_h5_GR_scaled_depth\", \"train\")+\"/val.txt\"\n",
    "\n",
    "is_list_of_h5_list = not data_utils.is_h5_list(args.filelist)\n",
    "if is_list_of_h5_list:\n",
    "    seg_list = data_utils.load_seg_list(args.filelist)\n",
    "    seg_list_idx = 0\n",
    "    filelist_train = seg_list[seg_list_idx]\n",
    "    seg_list_idx = seg_list_idx + 1\n",
    "else:\n",
    "    filelist_train = args.filelist\n",
    "data_train, _, data_num_train, label_train, _ = data_utils.load_seg_Argo(filelist_train)\n",
    "data_val, _, data_num_val, label_val, _ = data_utils.load_seg_Argo(args.filelist_val)\n",
    "\n",
    "\n",
    "# data_train = np.dstack([data_train, label_train[:, :,np.newaxis]])\n",
    "# data_val = np.dstack([data_val, label_val[:, :,np.newaxis]])\n",
    "\n",
    "# depth = np.linalg.norm(data_train, 2, axis=2)\n",
    "# data_train = np.concatenate([data_train, depth[:,:,np.newaxis]], axis = -1)\n",
    "\n",
    "# depth = np.linalg.norm(data_val, 2, axis=2)\n",
    "# data_val = np.concatenate([data_val, depth[:,:,np.newaxis]], axis = -1)\n",
    "\n",
    "# shuffle\n",
    "data_train, data_num_train, label_train = \\\n",
    "    data_utils.grouped_shuffle([data_train, data_num_train, label_train])"
   ]
  },
  {
   "cell_type": "code",
   "execution_count": 5,
   "metadata": {},
   "outputs": [
    {
     "name": "stdout",
     "output_type": "stream",
     "text": [
      "2020-01-26 09:28:52.879491-43942/1639 training/validation samples.\n",
      "2020-01-26 09:28:52.879571-43942 training batches.\n"
     ]
    }
   ],
   "source": [
    "num_train = data_train.shape[0]\n",
    "point_num = data_train.shape[1]\n",
    "num_val = data_val.shape[0]\n",
    "print('{}-{:d}/{:d} training/validation samples.'.format(datetime.now(), num_train, num_val))\n",
    "batch_num = (num_train * num_epochs + batch_size - 1) // batch_size\n",
    "print('{}-{:d} training batches.'.format(datetime.now(), batch_num))"
   ]
  },
  {
   "cell_type": "code",
   "execution_count": 7,
   "metadata": {},
   "outputs": [],
   "source": [
    "for batch_idx_train in range(batch_num):\n",
    "\n",
    "        start_idx = (batch_size * batch_idx_train) % num_train\n",
    "        end_idx = min(start_idx + batch_size, num_train)\n",
    "        batch_size_train = end_idx - start_idx\n",
    "\n",
    "        points_batch = data_train[start_idx:end_idx, ...] # data number\n",
    "        points_num_batch = data_num_train[start_idx:end_idx, ...] # Number of data points \n",
    "        labels_batch = label_train[start_idx:end_idx, ...] # labels of segmentation for each point\n",
    "        weights_batch = np.array(label_weights_list)[labels_batch] \n",
    "\n",
    "        break"
   ]
  },
  {
   "cell_type": "code",
   "execution_count": 15,
   "metadata": {},
   "outputs": [],
   "source": [
    "lines = []\n",
    "lines.append(\n",
    "    {\n",
    "        \"color\":'red', #x\n",
    "        \"vertices\":[[5,0,0],[0,0,0],[0,0,0]]\n",
    "    })\n",
    "lines.append(\n",
    "    {\n",
    "        \"color\":'green', #y\n",
    "        \"vertices\":[[0,0,0],[0,5,0],[0,0,0]]\n",
    "    })\n",
    "lines.append(\n",
    "    {\n",
    "        \"color\":'blue', #z\n",
    "        \"vertices\":[[0,0,0],[0,0,0],[0,0,5]]\n",
    "    })\n"
   ]
  },
  {
   "cell_type": "code",
   "execution_count": 17,
   "metadata": {
    "scrolled": false
   },
   "outputs": [
    {
     "data": {
      "application/vnd.jupyter.widget-view+json": {
       "model_id": "13894d8f661741e28fd522599e0611fa",
       "version_major": 2,
       "version_minor": 0
      },
      "text/plain": [
       "Renderer(camera=PerspectiveCamera(aspect=1.6, fov=90.0, position=(2.1701948642730713, 14.538530826568604, 76.5…"
      ]
     },
     "metadata": {},
     "output_type": "display_data"
    },
    {
     "data": {
      "application/vnd.jupyter.widget-view+json": {
       "model_id": "d5a1d27f1088439bba22493430172354",
       "version_major": 2,
       "version_minor": 0
      },
      "text/plain": [
       "HBox(children=(Label(value='Point size:'), FloatSlider(value=0.02, max=0.2, step=0.0002), Label(value='Backgro…"
      ]
     },
     "metadata": {},
     "output_type": "display_data"
    }
   ],
   "source": [
    "# Vizualize pointcloud with intensity\n",
    "new_pts = pd.DataFrame(points_batch.reshape(-1, 3)[:, 0:3], columns=['x', 'y', 'z'])\n",
    "# new_pts[\"red\"]  = 0\n",
    "# new_pts[\"green\"]  = 0\n",
    "# new_pts[\"blue\"]  = 0\n",
    "# new_pts[[\"red\",\"green\", \"blue\"]] = classcolorlist\n",
    "# new_pts.loc[list0fpointindex,[\"red\",\"green\", \"blue\"]] = blue\n",
    "cloud = PyntCloud(new_pts)\n",
    "cloud.plot(initial_point_size=0.02, polylines = lines)"
   ]
  },
  {
   "cell_type": "code",
   "execution_count": 22,
   "metadata": {
    "scrolled": true
   },
   "outputs": [
    {
     "name": "stdout",
     "output_type": "stream",
     "text": [
      "/home/kartik/DL_model/PointCNN/pointcnn_seg\n",
      "sampling path  /home/kartik/DL_model/PointCNN/sampling\n",
      "WARNING:tensorflow:From /home/kartik/DL_model/PointCNN/pointfly.py:193: calling reduce_sum (from tensorflow.python.ops.math_ops) with keep_dims is deprecated and will be removed in a future version.\n",
      "Instructions for updating:\n",
      "keep_dims is deprecated, use keepdims instead\n",
      "2020-01-26 09:33:54.354001-Parameter number: 11510276.\n"
     ]
    }
   ],
   "source": [
    "args_model = \"pointcnn_seg\"\n",
    "args_setting = \"kitti3d_x8_2048_fps\"\n",
    "args_repeat_num = 1\n",
    "\n",
    "model = importlib.import_module(args_model)\n",
    "setting_path = os.path.join(os.path.join(ROOT_DIR), args_model)\n",
    "print(setting_path)\n",
    "sys.path.append(setting_path)\n",
    "setting = importlib.import_module(args_setting)\n",
    "\n",
    "sample_num = setting.sample_num\n",
    "batch_size = args_repeat_num * int ( math.ceil(max_point_num / sample_num) )\n",
    "batch_size = 1\n",
    "######################################################################\n",
    "# Placeholders\n",
    "indices = tf.placeholder(tf.int32, shape=(batch_size, None, 2), name=\"indices\")\n",
    "is_training = tf.placeholder(tf.bool, name='is_training')\n",
    "pts_fts = tf.placeholder(tf.float32, shape=(batch_size, max_point_num, setting.data_dim), name='points')\n",
    "global_step = tf.Variable(0, trainable=False, name='global_step')\n",
    "######################################################################\n",
    "\n",
    "# # Placeholders\n",
    "# indices = tf.placeholder(tf.int32, shape=(None, None, 2), name=\"indices\")\n",
    "# xforms = tf.placeholder(tf.float32, shape=(None, 3, 3), name=\"xforms\")\n",
    "# rotations = tf.placeholder(tf.float32, shape=(None, 3, 3), name=\"rotations\")\n",
    "# jitter_range = tf.placeholder(tf.float32, shape=(1), name=\"jitter_range\")\n",
    "# global_step = tf.Variable(0, trainable=False, name='global_step')\n",
    "# is_training = tf.placeholder(tf.bool, name='is_training')\n",
    "\n",
    "# pts_fts = tf.placeholder(tf.float32, shape=(None, point_num, setting.data_dim), name='pts_fts')\n",
    "# labels_seg = tf.placeholder(tf.int64, shape=(None, point_num), name='labels_seg')\n",
    "# labels_weights = tf.placeholder(tf.float32, shape=(None, point_num), name='labels_weights')\n",
    "\n",
    "\n",
    "######################################################################\n",
    "pts_fts_sampled = tf.gather_nd(pts_fts, indices=indices, name='pts_fts_sampled')\n",
    "if setting.data_dim > 3:\n",
    "    points_sampled, features_sampled = tf.split(pts_fts_sampled,\n",
    "                                                [3, setting.data_dim - 3],\n",
    "                                                axis=-1,\n",
    "                                                name='split_points_features')\n",
    "    if not setting.use_extra_features:\n",
    "        features_sampled = None\n",
    "else:\n",
    "    points_sampled = pts_fts_sampled\n",
    "    features_sampled = None\n",
    "\n",
    "net = model.Net(points_sampled, features_sampled, is_training, setting)\n",
    "seg_probs_op = tf.nn.softmax(net.logits, name='seg_probs')\n",
    "\n",
    "# for restore model\n",
    "saver = tf.train.Saver()\n",
    "\n",
    "parameter_num = np.sum([np.prod(v.shape.as_list()) for v in tf.trainable_variables()])\n",
    "print('{}-Parameter number: {:d}.'.format(datetime.now(), parameter_num))\n"
   ]
  },
  {
   "cell_type": "code",
   "execution_count": 25,
   "metadata": {},
   "outputs": [
    {
     "name": "stdout",
     "output_type": "stream",
     "text": [
      "here\n",
      "/home/kartik/DL_model/PointCNN/outfolder_argo_gr3/ckpts/iter-141946\n",
      "2020-01-26 09:39:17.286214-Found checkpoint /home/kartik/DL_model/PointCNN/outfolder_argo_gr3/ckpts/iter-141946\n",
      "INFO:tensorflow:Restoring parameters from /home/kartik/DL_model/PointCNN/outfolder_argo_gr3/ckpts/iter-141946\n",
      "2020-01-26 09:39:17.406643-Checkpoint loaded from /home/kartik/DL_model/PointCNN/outfolder_argo_gr3/ckpts/iter-141946 (Iter 141946)\n",
      "donw\n"
     ]
    },
    {
     "ename": "NameError",
     "evalue": "name 'item_num' is not defined",
     "output_type": "error",
     "traceback": [
      "\u001b[0;31m---------------------------------------------------------------------------\u001b[0m",
      "\u001b[0;31mNameError\u001b[0m                                 Traceback (most recent call last)",
      "\u001b[0;32m<ipython-input-25-9361622df069>\u001b[0m in \u001b[0;36m<module>\u001b[0;34m\u001b[0m\n\u001b[1;32m     30\u001b[0m     \u001b[0mdata\u001b[0m \u001b[0;34m=\u001b[0m\u001b[0mpoints_batch\u001b[0m\u001b[0;34m\u001b[0m\u001b[0;34m\u001b[0m\u001b[0m\n\u001b[1;32m     31\u001b[0m     \u001b[0mdata_num\u001b[0m \u001b[0;34m=\u001b[0m\u001b[0mpoints_num_batch\u001b[0m\u001b[0;34m\u001b[0m\u001b[0;34m\u001b[0m\u001b[0m\n\u001b[0;32m---> 32\u001b[0;31m     \u001b[0mindices_split_to_full\u001b[0m \u001b[0;34m=\u001b[0m \u001b[0mindices_split_to_full\u001b[0m\u001b[0;34m[\u001b[0m\u001b[0;36m0\u001b[0m\u001b[0;34m:\u001b[0m\u001b[0mitem_num\u001b[0m\u001b[0;34m]\u001b[0m\u001b[0;34m\u001b[0m\u001b[0;34m\u001b[0m\u001b[0m\n\u001b[0m\u001b[1;32m     33\u001b[0m     \u001b[0mbatch_num\u001b[0m \u001b[0;34m=\u001b[0m \u001b[0mdata\u001b[0m\u001b[0;34m.\u001b[0m\u001b[0mshape\u001b[0m\u001b[0;34m[\u001b[0m\u001b[0;36m0\u001b[0m\u001b[0;34m]\u001b[0m\u001b[0;34m\u001b[0m\u001b[0;34m\u001b[0m\u001b[0m\n\u001b[1;32m     34\u001b[0m \u001b[0;34m\u001b[0m\u001b[0m\n",
      "\u001b[0;31mNameError\u001b[0m: name 'item_num' is not defined"
     ]
    }
   ],
   "source": [
    "import math\n",
    "output_location = os.path.join(ROOT_DIR, \"test_data\", \"results2\")\n",
    "with tf.Session() as sess:\n",
    "    \n",
    "#     sess.run(init_op)\n",
    "    # Load the model\n",
    "    print(\"here\")\n",
    "    latest_ckpt = tf.train.latest_checkpoint(\"/home/kartik/DL_model/PointCNN/outfolder_argo_gr3/ckpts\")\n",
    "\n",
    "    print(latest_ckpt)\n",
    "    if latest_ckpt:\n",
    "        print('{}-Found checkpoint {}'.format(datetime.now(), latest_ckpt))\n",
    "        saver.restore(sess, latest_ckpt)\n",
    "        print('{}-Checkpoint loaded from {} (Iter {})'.format(\n",
    "            datetime.now(), latest_ckpt, sess.run(global_step)))\n",
    "    print(\"donw\")\n",
    "    indices_batch_indices = np.tile(np.reshape(np.arange(batch_size), (batch_size, 1, 1)), (1, sample_num, 1))\n",
    "    all_files = source_files\n",
    "    # The locaton of trh classes ais defined as below\n",
    "    file_count = 0\n",
    "    merged_label_zero = np.zeros((label_length),dtype=int)\n",
    "    merged_confidence_zero = np.zeros((label_length),dtype=float)\n",
    "    \n",
    "    points_batch = points_batch\n",
    "    points_num_batch = data_num_train[start_idx:end_idx, ...] # Number of data points \n",
    "    labels_batch = label_train[start_idx:end_idx, ...] # labels of segmentation for each point\n",
    "    weights_batch = np.array(label_weights_list)[labels_batch] \n",
    "\n",
    "    \n",
    "    \n",
    "    data =points_batch\n",
    "    data_num =points_num_batch\n",
    "    indices_split_to_full = indices_split_to_full[0:item_num]\n",
    "    batch_num = data.shape[0]\n",
    "\n",
    "    labels_pred = np.full((batch_num, max_point_num), -1, dtype=np.int32)\n",
    "    confidences_pred = np.zeros((batch_num, max_point_num), dtype=np.float32)\n",
    "    print(label_length)\n",
    "\n",
    "    #print('{}-{:d} testing batches.'.format(datetime.now(), batch_num))\n",
    "    for batch_idx in tqdm(range(batch_num)):\n",
    "        #if batch_idx % 10 == 0:\n",
    "        #print('{}-Processing {} of {} batches.'.format(datetime.now(), batch_idx, batch_num))\n",
    "        points_batch = data[[batch_idx] * batch_size, ...]\n",
    "        point_num = data_num[batch_idx]\n",
    "        if(point_num <= 10):\n",
    "            continue \n",
    "\n",
    "        tile_num = int(math.ceil((sample_num * batch_size) / point_num))\n",
    "        indices_shuffle = np.tile(np.arange(point_num), tile_num)[0:sample_num * batch_size]\n",
    "        np.random.shuffle(indices_shuffle)\n",
    "        indices_batch_shuffle = np.reshape(indices_shuffle, (batch_size, sample_num, 1))\n",
    "        indices_batch = np.concatenate((indices_batch_indices, indices_batch_shuffle), axis=2)\n",
    "\n",
    "        seg_probs = sess.run([seg_probs_op],\n",
    "                                feed_dict={\n",
    "                                    pts_fts: points_batch,\n",
    "                                    indices: indices_batch,\n",
    "                                    is_training: False,\n",
    "                                })\n",
    "        probs_2d = np.reshape(seg_probs, (sample_num * batch_size, -1))\n",
    "\n",
    "        predictions = [(-1, 0.0)] * point_num\n",
    "        for idx in range(sample_num * batch_size):\n",
    "            point_idx = indices_shuffle[idx]\n",
    "            probs = probs_2d[idx, :]\n",
    "            confidence = np.amax(probs)\n",
    "            label = np.argmax(probs)\n",
    "            if confidence > predictions[point_idx][1]:\n",
    "                predictions[point_idx] = [label, confidence]\n",
    "        labels_pred[batch_idx, 0:point_num] = np.array([label for label, _ in predictions])\n",
    "        confidences_pred[batch_idx, 0:point_num] = np.array([confidence for _, confidence in predictions])\n",
    "\n",
    "\n",
    "\n",
    "    for idx in range(batch_num): #Get highest confidence\n",
    "        pred = labels_pred[idx].astype(np.int64)\n",
    "        _indices = indices_split_to_full[idx].astype(np.int64)\n",
    "        confidence = confidences_pred[idx].astype(np.float32)\n",
    "        num = data_num[idx].astype(np.int64)\n",
    "\n",
    "        for i in range(pred.shape[0]):\n",
    "\n",
    "             if confidence[i] > 0.8 and confidence[i] > merged_confidence_zero[_indices[i]]:\n",
    "                merged_confidence_zero[_indices[i]] = confidence[i]\n",
    "                merged_label_zero[_indices[i]] = pred[i]\n",
    "\n",
    "\n",
    "    all_label_pred[indices_for_prediction] = merged_label_zero\n",
    "    all_label_pred.tofile(output_location+\"/out_{}\".format(file_count))\n",
    "    file_count+=1\n",
    "    print(\"saved to \", output_location+\"/out_{}\".format(file_count))\n",
    "    "
   ]
  },
  {
   "cell_type": "code",
   "execution_count": 9,
   "metadata": {
    "scrolled": false
   },
   "outputs": [
    {
     "name": "stdout",
     "output_type": "stream",
     "text": [
      "sampling path  /home/kartik/DL_model/PointCNN/sampling\n",
      "WARNING:tensorflow:From /home/kartik/DL_model/PointCNN/pointfly.py:193: calling reduce_sum (from tensorflow.python.ops.math_ops) with keep_dims is deprecated and will be removed in a future version.\n",
      "Instructions for updating:\n",
      "keep_dims is deprecated, use keepdims instead\n",
      "2020-01-04 10:03:13.068704-Parameter number: 11510276.\n"
     ]
    },
    {
     "name": "stderr",
     "output_type": "stream",
     "text": [
      "  0%|          | 0/1639 [00:00<?, ?it/s]"
     ]
    },
    {
     "name": "stdout",
     "output_type": "stream",
     "text": [
      "2020-01-04 10:03:13.573800-Reading /home/kartik/DL_model/PointCNN/data/Argo_h5_GR_scaled_depth/train/train_full_0.h5...\n"
     ]
    },
    {
     "name": "stderr",
     "output_type": "stream",
     "text": [
      "\n"
     ]
    },
    {
     "ename": "ValueError",
     "evalue": "Cannot feed value of shape (5, 8192, 3) for Tensor 'points:0', which has shape '(5, 10000, 4)'",
     "output_type": "error",
     "traceback": [
      "\u001b[0;31m---------------------------------------------------------------------------\u001b[0m",
      "\u001b[0;31mValueError\u001b[0m                                Traceback (most recent call last)",
      "\u001b[0;32m<ipython-input-9-1067357071f5>\u001b[0m in \u001b[0;36m<module>\u001b[0;34m\u001b[0m\n\u001b[1;32m    116\u001b[0m                                         \u001b[0mpts_fts\u001b[0m\u001b[0;34m:\u001b[0m \u001b[0mpoints_batch\u001b[0m\u001b[0;34m,\u001b[0m\u001b[0;34m\u001b[0m\u001b[0;34m\u001b[0m\u001b[0m\n\u001b[1;32m    117\u001b[0m                                         \u001b[0mindices\u001b[0m\u001b[0;34m:\u001b[0m \u001b[0mindices_batch\u001b[0m\u001b[0;34m,\u001b[0m\u001b[0;34m\u001b[0m\u001b[0;34m\u001b[0m\u001b[0m\n\u001b[0;32m--> 118\u001b[0;31m                                         \u001b[0mis_training\u001b[0m\u001b[0;34m:\u001b[0m \u001b[0;32mFalse\u001b[0m\u001b[0;34m,\u001b[0m\u001b[0;34m\u001b[0m\u001b[0;34m\u001b[0m\u001b[0m\n\u001b[0m\u001b[1;32m    119\u001b[0m                                     })\n\u001b[1;32m    120\u001b[0m             \u001b[0mprobs_2d\u001b[0m \u001b[0;34m=\u001b[0m \u001b[0mnp\u001b[0m\u001b[0;34m.\u001b[0m\u001b[0mreshape\u001b[0m\u001b[0;34m(\u001b[0m\u001b[0mseg_probs\u001b[0m\u001b[0;34m,\u001b[0m \u001b[0;34m(\u001b[0m\u001b[0msample_num\u001b[0m \u001b[0;34m*\u001b[0m \u001b[0mbatch_size\u001b[0m\u001b[0;34m,\u001b[0m \u001b[0;34m-\u001b[0m\u001b[0;36m1\u001b[0m\u001b[0;34m)\u001b[0m\u001b[0;34m)\u001b[0m\u001b[0;34m\u001b[0m\u001b[0;34m\u001b[0m\u001b[0m\n",
      "\u001b[0;32m~/anaconda3/envs/sane35/lib/python3.6/site-packages/tensorflow/python/client/session.py\u001b[0m in \u001b[0;36mrun\u001b[0;34m(self, fetches, feed_dict, options, run_metadata)\u001b[0m\n\u001b[1;32m    898\u001b[0m     \u001b[0;32mtry\u001b[0m\u001b[0;34m:\u001b[0m\u001b[0;34m\u001b[0m\u001b[0;34m\u001b[0m\u001b[0m\n\u001b[1;32m    899\u001b[0m       result = self._run(None, fetches, feed_dict, options_ptr,\n\u001b[0;32m--> 900\u001b[0;31m                          run_metadata_ptr)\n\u001b[0m\u001b[1;32m    901\u001b[0m       \u001b[0;32mif\u001b[0m \u001b[0mrun_metadata\u001b[0m\u001b[0;34m:\u001b[0m\u001b[0;34m\u001b[0m\u001b[0;34m\u001b[0m\u001b[0m\n\u001b[1;32m    902\u001b[0m         \u001b[0mproto_data\u001b[0m \u001b[0;34m=\u001b[0m \u001b[0mtf_session\u001b[0m\u001b[0;34m.\u001b[0m\u001b[0mTF_GetBuffer\u001b[0m\u001b[0;34m(\u001b[0m\u001b[0mrun_metadata_ptr\u001b[0m\u001b[0;34m)\u001b[0m\u001b[0;34m\u001b[0m\u001b[0;34m\u001b[0m\u001b[0m\n",
      "\u001b[0;32m~/anaconda3/envs/sane35/lib/python3.6/site-packages/tensorflow/python/client/session.py\u001b[0m in \u001b[0;36m_run\u001b[0;34m(self, handle, fetches, feed_dict, options, run_metadata)\u001b[0m\n\u001b[1;32m   1109\u001b[0m                              \u001b[0;34m'which has shape %r'\u001b[0m \u001b[0;34m%\u001b[0m\u001b[0;34m\u001b[0m\u001b[0;34m\u001b[0m\u001b[0m\n\u001b[1;32m   1110\u001b[0m                              (np_val.shape, subfeed_t.name,\n\u001b[0;32m-> 1111\u001b[0;31m                               str(subfeed_t.get_shape())))\n\u001b[0m\u001b[1;32m   1112\u001b[0m           \u001b[0;32mif\u001b[0m \u001b[0;32mnot\u001b[0m \u001b[0mself\u001b[0m\u001b[0;34m.\u001b[0m\u001b[0mgraph\u001b[0m\u001b[0;34m.\u001b[0m\u001b[0mis_feedable\u001b[0m\u001b[0;34m(\u001b[0m\u001b[0msubfeed_t\u001b[0m\u001b[0;34m)\u001b[0m\u001b[0;34m:\u001b[0m\u001b[0;34m\u001b[0m\u001b[0;34m\u001b[0m\u001b[0m\n\u001b[1;32m   1113\u001b[0m             \u001b[0;32mraise\u001b[0m \u001b[0mValueError\u001b[0m\u001b[0;34m(\u001b[0m\u001b[0;34m'Tensor %s may not be fed.'\u001b[0m \u001b[0;34m%\u001b[0m \u001b[0msubfeed_t\u001b[0m\u001b[0;34m)\u001b[0m\u001b[0;34m\u001b[0m\u001b[0;34m\u001b[0m\u001b[0m\n",
      "\u001b[0;31mValueError\u001b[0m: Cannot feed value of shape (5, 8192, 3) for Tensor 'points:0', which has shape '(5, 10000, 4)'"
     ]
    }
   ],
   "source": [
    "args = {\n",
    "        'load_ckpt' : __model,\n",
    "        'repeat_num' : 1,\n",
    "        'setting' : \"kitti3d_x8_2048_fps\",\n",
    "        'save_ply' : False,\n",
    "        'model' : \"pointcnn_seg\",\n",
    "        'max_point_num' : 8192,\n",
    "        'filelist' : __dataset\n",
    "}\n",
    "\n",
    "model = importlib.import_module(args['model'])\n",
    "setting_path = os.path.join(_file_loc, args['model'])\n",
    "sys.path.append(setting_path)\n",
    "setting = importlib.import_module(args['setting'])\n",
    "\n",
    "sample_num = setting.sample_num\n",
    "max_point_num = args['max_point_num']\n",
    "batch_size = args['repeat_num'] * int(math.ceil(max_point_num / sample_num))\n",
    "\n",
    "######################################################################\n",
    "# Placeholders\n",
    "indices = tf.placeholder(tf.int32, shape=(batch_size, None, 2), name=\"indices\")\n",
    "is_training = tf.placeholder(tf.bool, name='is_training')\n",
    "pts_fts = tf.placeholder(tf.float32, shape=(batch_size, max_point_num, setting.data_dim), name='points')\n",
    "######################################################################\n",
    "\n",
    "######################################################################\n",
    "pts_fts_sampled = tf.gather_nd(pts_fts, indices=indices, name='pts_fts_sampled')\n",
    "# if setting.data_dim > 3:\n",
    "#     points_sampled, features_sampled = tf.split(pts_fts_sampled,\n",
    "#                                                 [3, setting.data_dim - 3],\n",
    "#                                                 axis=-1,\n",
    "#                                                 name='split_points_features')\n",
    "#     if not setting.use_extra_features:\n",
    "#         features_sampled = None\n",
    "# else:\n",
    "#     points_sampled = pts_fts_sampled\n",
    "#     features_sampled = None\n",
    "\n",
    "if setting.data_dim > 3:\n",
    "    points_sampled, features_sampled = tf.split(pts_fts_sampled,\n",
    "                                                [3, setting.data_dim - 3],\n",
    "                                                axis=-1,\n",
    "                                                name='split_points_features')\n",
    "    if setting.use_extra_features:\n",
    "        if setting.with_normal_feature:\n",
    "            if setting.data_dim < 6:\n",
    "                print('Only 3D normals are supported!')\n",
    "                exit()\n",
    "            elif setting.data_dim == 6:\n",
    "                features_augmented = pf.augment(features_sampled, rotations)\n",
    "            else:\n",
    "                normals, rest = tf.split(features_sampled, [3, setting.data_dim - 6])\n",
    "                normals_augmented = pf.augment(normals, rotations)\n",
    "                features_augmented = tf.concat([normals_augmented, rest], axis=-1)\n",
    "        else:\n",
    "            features_augmented = features_sampled\n",
    "else:\n",
    "    points_sampled = pts_fts_sampled\n",
    "\n",
    "net = model.Net(points_sampled, features_sampled, is_training, setting)\n",
    "seg_probs_op = tf.nn.softmax(net.logits, name='seg_probs')\n",
    "\n",
    "# for restore model\n",
    "saver = tf.train.Saver()\n",
    "\n",
    "parameter_num = np.sum([np.prod(v.shape.as_list()) for v in tf.trainable_variables()])\n",
    "print('{}-Parameter number: {:d}.'.format(datetime.now(), parameter_num))\n",
    "\n",
    "\n",
    "with tf.Session() as sess:\n",
    "    # Load the model\n",
    "#     saver.restore(sess, args['load_ckpt'])\n",
    "#     print('{}-Checkpoint loaded from {}!'.format(datetime.now(), args['load_ckpt']))\n",
    "    latest_ckpt = tf.train.latest_checkpoint(folder_ckpt)\n",
    "    if latest_ckpt:\n",
    "        print('{}-Found checkpoint {}'.format(datetime.now(), latest_ckpt))\n",
    "        saver.restore(sess, latest_ckpt)\n",
    "        print('{}-Checkpoint loaded from {} (Iter {})'.format(\n",
    "            datetime.now(), latest_ckpt, sess.run(global_step)))\n",
    "\n",
    "    \n",
    "\n",
    "    indices_batch_indices = np.tile(np.reshape(np.arange(batch_size), (batch_size, 1, 1)), (1, sample_num, 1))\n",
    "\n",
    "    folder = os.path.dirname(args['filelist'])\n",
    "    filenames = [os.path.join(folder, line.strip()) for line in open(args['filelist'])]\n",
    "    for filename in filenames:\n",
    "        print('{}-Reading {}...'.format(datetime.now(), filename))\n",
    "        \n",
    "#         data_h5 = h5py.File(filename)\n",
    "#         data = data_h5['data'][...].astype(np.float32)\n",
    "#         data_num = data_h5['data_num'][...].astype(np.int32)\n",
    "#         original_label = data_h5['label'][...].astype(np.int64)\n",
    "#         batch_num = data.shape[0]\n",
    "\n",
    "        labels_pred = np.full((batch_num, max_point_num), -1, dtype=np.int32)\n",
    "        confidences_pred = np.zeros((batch_num, max_point_num), dtype=np.float32)\n",
    "\n",
    "        #print('{}-{:d} testing batches.'.format(datetime.now(), batch_num))\n",
    "        for batch_idx in tqdm(range(batch_num)):\n",
    "            #if batch_idx % 10 == 0:\n",
    "            #print('{}-Processing {} of {} batches.'.format(datetime.now(), batch_idx, batch_num))\n",
    "            points_batch = data[[batch_idx] * batch_size, ...]\n",
    "            point_num = data_num[batch_idx]\n",
    "            if(point_num <= 10):\n",
    "                continue \n",
    "\n",
    "            tile_num = int(math.ceil((sample_num * batch_size) / point_num))\n",
    "            indices_shuffle = np.tile(np.arange(point_num), tile_num)[0:sample_num * batch_size]\n",
    "            np.random.shuffle(indices_shuffle)\n",
    "            indices_batch_shuffle = np.reshape(indices_shuffle, (batch_size, sample_num, 1))\n",
    "            indices_batch = np.concatenate((indices_batch_indices, indices_batch_shuffle), axis=2)\n",
    "\n",
    "            seg_probs = sess.run([seg_probs_op],\n",
    "                                    feed_dict={\n",
    "                                        pts_fts: points_batch,\n",
    "                                        indices: indices_batch,\n",
    "                                        is_training: False,\n",
    "                                    })\n",
    "            probs_2d = np.reshape(seg_probs, (sample_num * batch_size, -1))\n",
    "\n",
    "            predictions = [(-1, 0.0)] * point_num\n",
    "            for idx in range(sample_num * batch_size):\n",
    "                point_idx = indices_shuffle[idx]\n",
    "                probs = probs_2d[idx, :]\n",
    "                confidence = np.amax(probs)\n",
    "                label = np.argmax(probs)\n",
    "                if confidence > predictions[point_idx][1]:\n",
    "                    predictions[point_idx] = [label, confidence]\n",
    "            labels_pred[batch_idx, 0:point_num] = np.array([label for label, _ in predictions])\n",
    "            confidences_pred[batch_idx, 0:point_num] = np.array([confidence for _, confidence in predictions])\n",
    "\n",
    "        filename_pred = filename[:-3] + __predicate+ '_pred.h5'\n",
    "        print('{}-Saving {}...'.format(datetime.now(), filename_pred))\n",
    "        file = h5py.File(filename_pred, 'w')\n",
    "        file.create_dataset('data_num', data=data_num)\n",
    "        file.create_dataset('label_seg', data=labels_pred)\n",
    "        file.create_dataset('original_label', data=original_label)\n",
    "        file.create_dataset('data', data=data)\n",
    "        file.create_dataset('confidence', data=confidences_pred)\n",
    "        has_indices = 'indices_split_to_full' in data_h5\n",
    "        if has_indices:\n",
    "            file.create_dataset('indices_split_to_full', data=data_h5['indices_split_to_full'][...])\n",
    "        file.close()\n",
    "\n",
    "        if args['save_ply']:\n",
    "            print('{}-Saving ply of {}...'.format(datetime.now(), filename_pred))\n",
    "            filepath_label_ply = os.path.join(filename_pred[:-3] + 'ply_label')\n",
    "            data_utils.save_ply_property_batch(data[:, :, 0:3], labels_pred[...],\n",
    "                                               filepath_label_ply, data_num[...], setting.num_class)\n",
    "        ######################################################################\n",
    "    print('{}-Done!'.format(datetime.now()))\n"
   ]
  },
  {
   "cell_type": "code",
   "execution_count": null,
   "metadata": {},
   "outputs": [],
   "source": [
    "k"
   ]
  },
  {
   "cell_type": "code",
   "execution_count": null,
   "metadata": {},
   "outputs": [],
   "source": [
    "\n",
    "pred_list = [pred for pred in os.listdir(pred_path) if pred.split(\".\")[-1] == \"h5\" and __predicate in pred]"
   ]
  },
  {
   "cell_type": "code",
   "execution_count": null,
   "metadata": {},
   "outputs": [],
   "source": [
    "pred_list\n",
    "\n",
    "_result_preds = {}\n",
    "\n",
    "for i in testlists:\n",
    "    _result_preds[i] = [[]] #[[]Zero, []Half, FrameID]\n",
    "    \n",
    "for _file in tqdm(pred_list):\n",
    "\n",
    "    \n",
    "    origin_filename =  _file.replace(__predicate+ '_pred.h5', \".h5\")\n",
    "    #print(os.path.join(pred_path, origin_filename))\n",
    "    input_data = h5py.File(os.path.join(pred_path, origin_filename))\n",
    "    label = input_data['label'][...].astype(np.int32)\n",
    "    \n",
    "    frameids = np.unique(label)\n",
    "    \n",
    "    data = h5py.File(os.path.join(pred_path, _file))\n",
    "    \n",
    "\n",
    "    data_points = data['data'][:,:,:4].astype(np.float32)\n",
    "    original_label = data['original_label'][...].astype(np.int64)\n",
    "\n",
    "        \n",
    "    labels_seg = data['label_seg'][...].astype(np.int64)\n",
    "    indices = data['indices_split_to_full'][...].astype(np.int64)\n",
    "    confidence = data['confidence'][...].astype(np.float32)\n",
    "    data_num = data['data_num'][...].astype(np.int64)\n",
    "    \n",
    "    for frame_id in (frameids):\n",
    "        labels_seg_frame = []\n",
    "        confidence_frame = []\n",
    "        idx_frame = []\n",
    "        ptnum_frame = []\n",
    "        indices_frame = np.nonzero(label==frame_id)\n",
    "        for i in  indices_frame[0]:\n",
    "\n",
    "            ptnum_frame.append(data_num[i])\n",
    "            idx_frame.append(indices[i,:data_num[i]])\n",
    "            labels_seg_frame.append(labels_seg[i,:data_num[i]])\n",
    "            confidence_frame.append(confidence[i,:data_num[i]])\n",
    "            \n",
    "        idx_frame = np.concatenate(idx_frame)\n",
    "        labels_seg_frame = np.concatenate(labels_seg_frame)\n",
    "        labels_seg_frame = labels_seg_frame.astype(int)\n",
    "        confidence_frame = np.concatenate(confidence_frame)\n",
    "        \n",
    "        is_half = 1 if \"_half_\" in origin_filename else 0\n",
    "        \n",
    "        _result_preds[frame_id][is_half] = [labels_seg_frame, confidence_frame, ptnum_frame, idx_frame]\n",
    "        \n",
    "    "
   ]
  },
  {
   "cell_type": "code",
   "execution_count": null,
   "metadata": {},
   "outputs": [],
   "source": [
    "\n",
    "final_label = {}\n",
    "\n",
    "for _i in tqdm(testlists):\n",
    "    \n",
    "    if len(_result_preds[_i][0][3]) == 0: # or len(_result_preds[_i][1][3]) == 0 :\n",
    "        print(\"NO DATA\", _i)\n",
    "        continue\n",
    "        \n",
    "    label_length = max(_result_preds[_i][0][3])+1 # max(max(_result_preds[_i][0][3]), max(_result_preds[_i][1][3]) )+1\n",
    "\n",
    "    merged_label_zero = np.zeros((label_length),dtype=int)\n",
    "    merged_confidence_zero = np.zeros((label_length),dtype=float)\n",
    "    merged_label_half = np.zeros((label_length), dtype=int)\n",
    "    merged_confidence_half = np.zeros((label_length), dtype=float)\n",
    "\n",
    "\n",
    "    final_label[_i] =  np.zeros((label_length), dtype=int) #[[]Zero, []Half, FrameID]\n",
    "    \n",
    "    is_zero = True \n",
    "    for pred_data in _result_preds[_i]:\n",
    "    \n",
    "        labels_seg = pred_data[0].astype(np.int64)\n",
    "        indices = pred_data[3].astype(np.int64)\n",
    "        confidence = pred_data[1].astype(np.float32)\n",
    "        data_num = np.array(pred_data[2]).astype(np.int64)\n",
    "\n",
    "        if is_zero:\n",
    "            for i in range(labels_seg.shape[0]):\n",
    "                \n",
    "                 if confidence[i] > merged_confidence_zero[indices[i]]:\n",
    "                    merged_confidence_zero[indices[i]] = confidence[i]\n",
    "                    merged_label_zero[indices[i]] = labels_seg[i]\n",
    "                                \n",
    "        else:\n",
    "            for i in range(labels_seg.shape[0]):\n",
    "                 if confidence[i] > merged_confidence_half[indices[i]]:\n",
    "                    merged_confidence_half[indices[i]] = confidence[i]\n",
    "                    merged_label_half[indices[i]] = labels_seg[i]\n",
    "                \n",
    "        is_zero = False\n",
    "\n",
    "    final_label[_i][merged_confidence_zero >= merged_confidence_half] = merged_label_zero[merged_confidence_zero >= merged_confidence_half]\n",
    "    final_label[_i][merged_confidence_zero < merged_confidence_half] = merged_label_half[merged_confidence_zero < merged_confidence_half]"
   ]
  },
  {
   "cell_type": "code",
   "execution_count": null,
   "metadata": {},
   "outputs": [],
   "source": [
    "np.savez(__dataset_final_result + __predicate +\"-final-pred.npz\", final_label)"
   ]
  },
  {
   "cell_type": "code",
   "execution_count": null,
   "metadata": {},
   "outputs": [],
   "source": [
    "__dataset_final_result + __predicate +\"-final-pred.npz\""
   ]
  },
  {
   "cell_type": "code",
   "execution_count": null,
   "metadata": {},
   "outputs": [],
   "source": []
  }
 ],
 "metadata": {
  "kernelspec": {
   "display_name": "Python 3",
   "language": "python",
   "name": "python3"
  },
  "language_info": {
   "codemirror_mode": {
    "name": "ipython",
    "version": 3
   },
   "file_extension": ".py",
   "mimetype": "text/x-python",
   "name": "python",
   "nbconvert_exporter": "python",
   "pygments_lexer": "ipython3",
   "version": "3.6.7"
  }
 },
 "nbformat": 4,
 "nbformat_minor": 2
}
